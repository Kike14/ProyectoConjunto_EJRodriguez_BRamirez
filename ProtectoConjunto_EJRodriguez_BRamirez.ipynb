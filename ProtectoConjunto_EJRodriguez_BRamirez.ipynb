{
 "cells": [
  {
   "cell_type": "markdown",
   "metadata": {},
   "source": [
    "<img style=\"float: left; margin: 30px 15px 15px 15px;\" src=\"https://pngimage.net/wp-content/uploads/2018/06/logo-iteso-png-5.png\" width=\"300\" height=\"500\" /> \n",
    "    \n",
    "    \n",
    "### <font color='navy'> Simulación de procesos financieros. \n",
    "\n",
    "**Nombres:** Enrique Jair Rodríguez Orozco. Bernardo Ramirez Gonzalez.\n",
    "\n",
    "**Fecha:** 23 de Febrero del 2023.\n",
    "\n",
    "**Expediente** : if727454.\n",
    "**Profesor:** Oscar David Jaramillo Zuluaga.\n",
    "    \n",
    "**Link Github**: https://github.com/Kike14/ProyectoConjunto_EJRodriguez_BRamirez\n",
    "\n",
    "# Tarea 3: Clase 6"
   ]
  },
  {
   "cell_type": "markdown",
   "metadata": {},
   "source": [
    "## Enunciado de tarea \n",
    "\n",
    "> Usando compresión de listas o funciones map(sino recuerda como funciona observar el siguiente enlace https://www.pythonforbeginners.com/lists/list-comprehensions-in-python/), resolver los siguientes ejercicios:\n",
    "\n",
    ">1. Resolver la siguiente ecuación recursiva usando funciones como se vió en clase\n",
    "$$ D_{n}=(n-1) D_{n-1}+(n-1) D_{n-2} \\quad n\\ge 3$$\n",
    "con $D_1=0$ y $D_2 = 1$\n",
    ">3. Count the number of spaces in the following string `variable =  relaciónn  requiere,  para obtener  el  valor  de un  cierto  término,  el conocimiento de los dos anteriores`.\n",
    ">4. Remove all of the vowels in a string [make a list of the non-vowels].\n",
    ">5. Find all of the words in a string that are less than 4 letters.\n",
    ">6. Use a dictionary comprehension to count the length of each word in a sentence.\n",
    ">7. Use a nested list comprehension to find all of the numbers from 1-1000 that are divisible by any single digit besides 1 (2-9). "
   ]
  },
  {
   "cell_type": "code",
   "execution_count": 32,
   "metadata": {},
   "outputs": [],
   "source": [
    "import numpy as np"
   ]
  },
  {
   "cell_type": "code",
   "execution_count": 33,
   "metadata": {},
   "outputs": [
    {
     "data": {
      "text/plain": [
       "[0, 1, 2, 9, 44, 265, 1854, 14833, 133496, 1334961, 14684570, 176214841]"
      ]
     },
     "execution_count": 33,
     "metadata": {},
     "output_type": "execute_result"
    }
   ],
   "source": [
    "# EJERCICIO 1.......................................\n",
    "\n",
    "def DnFun(N):\n",
    "    Dn = [0, 1]\n",
    "    n = np.arange(3, N+3)\n",
    "    [Dn.append((i-1)*Dn[-1] + (i-1)*Dn[-2]) for i in n]\n",
    "    return Dn\n",
    "\n",
    "DnFun(10)"
   ]
  },
  {
   "cell_type": "code",
   "execution_count": 34,
   "metadata": {},
   "outputs": [
    {
     "name": "stdout",
     "output_type": "stream",
     "text": [
      "El número de espacios que tiene el string son: 23\n"
     ]
    }
   ],
   "source": [
    "# EJERCICIO 2....................................\n",
    "\n",
    "variable =  'relaciónn  requiere,  para obtener  el  valor  de un  cierto  término,  el conocimiento de los dos anteriores'\n",
    "\n",
    "espacios = sum([1 for i in variable if i==\" \" ])\n",
    "\n",
    "print('El número de espacios que tiene el string son:', espacios)"
   ]
  },
  {
   "cell_type": "code",
   "execution_count": 36,
   "metadata": {},
   "outputs": [
    {
     "name": "stdout",
     "output_type": "stream",
     "text": [
      "Introduce algo: Profe por fa ponganos diez\n",
      "['P', 'r', 'f', 'p', 'r', 'f', ' ', 'p', 'n', 'g', 'n', 's', ' ', 'd', 'e', 'z']\n"
     ]
    }
   ],
   "source": [
    "# EJERCICIO 3........................................\n",
    "\n",
    "v = ['a','e','i','o','u', ' ']\n",
    "\n",
    "x = list(input(\"Introduce algo: \"))\n",
    "listavacia = []\n",
    "\n",
    "[x.remove(i) for i in x if i in v]\n",
    "print(x)"
   ]
  },
  {
   "cell_type": "code",
   "execution_count": 29,
   "metadata": {},
   "outputs": [
    {
     "name": "stdout",
     "output_type": "stream",
     "text": [
      "Introduce Algo: Este es el codigo que resuelve el ejercicio 4.\n"
     ]
    },
    {
     "data": {
      "text/plain": [
       "['es', 'el', 'que', 'el', '4.']"
      ]
     },
     "execution_count": 29,
     "metadata": {},
     "output_type": "execute_result"
    }
   ],
   "source": [
    "# EJERCICIO 4.............................................\n",
    "string = (input('Introduce Algo: ')).split()\n",
    "\n",
    "[i for i in string if len(i) < 4]"
   ]
  },
  {
   "cell_type": "code",
   "execution_count": 48,
   "metadata": {},
   "outputs": [
    {
     "name": "stdout",
     "output_type": "stream",
     "text": [
      "Introduce Algo: Esta es la solución al ejercicio 5\n"
     ]
    },
    {
     "data": {
      "text/plain": [
       "{'Esta': 4, 'es': 2, 'la': 2, 'solución': 8, 'al': 2, 'ejercicio': 9, '5': 1}"
      ]
     },
     "execution_count": 48,
     "metadata": {},
     "output_type": "execute_result"
    }
   ],
   "source": [
    "# EJERCICIO 5..........................................\n",
    "sentence = (input('Introduce Algo: ')).split()\n",
    "\n",
    "{valor: len(valor) for valor in sentence }"
   ]
  },
  {
   "cell_type": "code",
   "execution_count": null,
   "metadata": {},
   "outputs": [],
   "source": [
    "# EJERCICIO 6........................................"
   ]
  },
  {
   "cell_type": "markdown",
   "metadata": {},
   "source": [
    "Código de solución estudiante 2"
   ]
  },
  {
   "cell_type": "code",
   "execution_count": null,
   "metadata": {},
   "outputs": [],
   "source": [
    "# Código de solución estudiante 2\n",
    ".\n",
    ".\n",
    ".\n",
    ".\n"
   ]
  },
  {
   "cell_type": "markdown",
   "metadata": {},
   "source": [
    "### Respuesta planteada en el ejercicio usando (markdown)\n",
    " La respuesta es ........."
   ]
  }
 ],
 "metadata": {
  "kernelspec": {
   "display_name": "Python 3",
   "language": "python",
   "name": "python3"
  },
  "language_info": {
   "codemirror_mode": {
    "name": "ipython",
    "version": 3
   },
   "file_extension": ".py",
   "mimetype": "text/x-python",
   "name": "python",
   "nbconvert_exporter": "python",
   "pygments_lexer": "ipython3",
   "version": "3.8.3"
  }
 },
 "nbformat": 4,
 "nbformat_minor": 2
}
